{
 "cells": [
  {
   "cell_type": "markdown",
   "id": "3e1502f5-2b06-44ae-8835-f344e5bce4f7",
   "metadata": {},
   "source": [
    "### Описание\n",
    "\n",
    "Этот набор данных состоит из данных Олимпийских игр за более чем столетие, с 1896 по 2016 год. "
   ]
  },
  {
   "cell_type": "code",
   "execution_count": 2,
   "id": "e8b4b3d2-3a05-4dde-aec9-daaed19737c9",
   "metadata": {},
   "outputs": [],
   "source": [
    "import pandas as pd\n",
    "import seaborn as sns\n",
    "import matplotlib.pyplot as plt"
   ]
  },
  {
   "cell_type": "code",
   "execution_count": 3,
   "id": "b23b2803-19d3-4c91-b963-22cecb963195",
   "metadata": {},
   "outputs": [],
   "source": [
    "df = pd.read_csv('athlete_events.csv')"
   ]
  },
  {
   "cell_type": "code",
   "execution_count": 4,
   "id": "afbcb0d9-7638-4af8-bdab-432a4d91af70",
   "metadata": {},
   "outputs": [
    {
     "data": {
      "text/html": [
       "<div>\n",
       "<style scoped>\n",
       "    .dataframe tbody tr th:only-of-type {\n",
       "        vertical-align: middle;\n",
       "    }\n",
       "\n",
       "    .dataframe tbody tr th {\n",
       "        vertical-align: top;\n",
       "    }\n",
       "\n",
       "    .dataframe thead th {\n",
       "        text-align: right;\n",
       "    }\n",
       "</style>\n",
       "<table border=\"1\" class=\"dataframe\">\n",
       "  <thead>\n",
       "    <tr style=\"text-align: right;\">\n",
       "      <th></th>\n",
       "      <th>ID</th>\n",
       "      <th>Name</th>\n",
       "      <th>Sex</th>\n",
       "      <th>Age</th>\n",
       "      <th>Height</th>\n",
       "      <th>Weight</th>\n",
       "      <th>Team</th>\n",
       "      <th>NOC</th>\n",
       "      <th>Games</th>\n",
       "      <th>Year</th>\n",
       "      <th>Season</th>\n",
       "      <th>City</th>\n",
       "      <th>Sport</th>\n",
       "      <th>Event</th>\n",
       "      <th>Medal</th>\n",
       "    </tr>\n",
       "  </thead>\n",
       "  <tbody>\n",
       "    <tr>\n",
       "      <th>0</th>\n",
       "      <td>1</td>\n",
       "      <td>A Dijiang</td>\n",
       "      <td>M</td>\n",
       "      <td>24.0</td>\n",
       "      <td>180.0</td>\n",
       "      <td>80.0</td>\n",
       "      <td>China</td>\n",
       "      <td>CHN</td>\n",
       "      <td>1992 Summer</td>\n",
       "      <td>1992</td>\n",
       "      <td>Summer</td>\n",
       "      <td>Barcelona</td>\n",
       "      <td>Basketball</td>\n",
       "      <td>Basketball Men's Basketball</td>\n",
       "      <td>NaN</td>\n",
       "    </tr>\n",
       "    <tr>\n",
       "      <th>1</th>\n",
       "      <td>2</td>\n",
       "      <td>A Lamusi</td>\n",
       "      <td>M</td>\n",
       "      <td>23.0</td>\n",
       "      <td>170.0</td>\n",
       "      <td>60.0</td>\n",
       "      <td>China</td>\n",
       "      <td>CHN</td>\n",
       "      <td>2012 Summer</td>\n",
       "      <td>2012</td>\n",
       "      <td>Summer</td>\n",
       "      <td>London</td>\n",
       "      <td>Judo</td>\n",
       "      <td>Judo Men's Extra-Lightweight</td>\n",
       "      <td>NaN</td>\n",
       "    </tr>\n",
       "    <tr>\n",
       "      <th>2</th>\n",
       "      <td>3</td>\n",
       "      <td>Gunnar Nielsen Aaby</td>\n",
       "      <td>M</td>\n",
       "      <td>24.0</td>\n",
       "      <td>NaN</td>\n",
       "      <td>NaN</td>\n",
       "      <td>Denmark</td>\n",
       "      <td>DEN</td>\n",
       "      <td>1920 Summer</td>\n",
       "      <td>1920</td>\n",
       "      <td>Summer</td>\n",
       "      <td>Antwerpen</td>\n",
       "      <td>Football</td>\n",
       "      <td>Football Men's Football</td>\n",
       "      <td>NaN</td>\n",
       "    </tr>\n",
       "    <tr>\n",
       "      <th>3</th>\n",
       "      <td>4</td>\n",
       "      <td>Edgar Lindenau Aabye</td>\n",
       "      <td>M</td>\n",
       "      <td>34.0</td>\n",
       "      <td>NaN</td>\n",
       "      <td>NaN</td>\n",
       "      <td>Denmark/Sweden</td>\n",
       "      <td>DEN</td>\n",
       "      <td>1900 Summer</td>\n",
       "      <td>1900</td>\n",
       "      <td>Summer</td>\n",
       "      <td>Paris</td>\n",
       "      <td>Tug-Of-War</td>\n",
       "      <td>Tug-Of-War Men's Tug-Of-War</td>\n",
       "      <td>Gold</td>\n",
       "    </tr>\n",
       "    <tr>\n",
       "      <th>4</th>\n",
       "      <td>5</td>\n",
       "      <td>Christine Jacoba Aaftink</td>\n",
       "      <td>F</td>\n",
       "      <td>21.0</td>\n",
       "      <td>185.0</td>\n",
       "      <td>82.0</td>\n",
       "      <td>Netherlands</td>\n",
       "      <td>NED</td>\n",
       "      <td>1988 Winter</td>\n",
       "      <td>1988</td>\n",
       "      <td>Winter</td>\n",
       "      <td>Calgary</td>\n",
       "      <td>Speed Skating</td>\n",
       "      <td>Speed Skating Women's 500 metres</td>\n",
       "      <td>NaN</td>\n",
       "    </tr>\n",
       "  </tbody>\n",
       "</table>\n",
       "</div>"
      ],
      "text/plain": [
       "   ID                      Name Sex   Age  Height  Weight            Team  \\\n",
       "0   1                 A Dijiang   M  24.0   180.0    80.0           China   \n",
       "1   2                  A Lamusi   M  23.0   170.0    60.0           China   \n",
       "2   3       Gunnar Nielsen Aaby   M  24.0     NaN     NaN         Denmark   \n",
       "3   4      Edgar Lindenau Aabye   M  34.0     NaN     NaN  Denmark/Sweden   \n",
       "4   5  Christine Jacoba Aaftink   F  21.0   185.0    82.0     Netherlands   \n",
       "\n",
       "   NOC        Games  Year  Season       City          Sport  \\\n",
       "0  CHN  1992 Summer  1992  Summer  Barcelona     Basketball   \n",
       "1  CHN  2012 Summer  2012  Summer     London           Judo   \n",
       "2  DEN  1920 Summer  1920  Summer  Antwerpen       Football   \n",
       "3  DEN  1900 Summer  1900  Summer      Paris     Tug-Of-War   \n",
       "4  NED  1988 Winter  1988  Winter    Calgary  Speed Skating   \n",
       "\n",
       "                              Event Medal  \n",
       "0       Basketball Men's Basketball   NaN  \n",
       "1      Judo Men's Extra-Lightweight   NaN  \n",
       "2           Football Men's Football   NaN  \n",
       "3       Tug-Of-War Men's Tug-Of-War  Gold  \n",
       "4  Speed Skating Women's 500 metres   NaN  "
      ]
     },
     "execution_count": 4,
     "metadata": {},
     "output_type": "execute_result"
    }
   ],
   "source": [
    "df.head()"
   ]
  },
  {
   "cell_type": "code",
   "execution_count": 5,
   "id": "d193b55a-5dec-4606-95c9-cc70b81e4eed",
   "metadata": {},
   "outputs": [
    {
     "name": "stdout",
     "output_type": "stream",
     "text": [
      "<class 'pandas.core.frame.DataFrame'>\n",
      "RangeIndex: 271116 entries, 0 to 271115\n",
      "Data columns (total 15 columns):\n",
      " #   Column  Non-Null Count   Dtype  \n",
      "---  ------  --------------   -----  \n",
      " 0   ID      271116 non-null  int64  \n",
      " 1   Name    271116 non-null  object \n",
      " 2   Sex     271116 non-null  object \n",
      " 3   Age     261642 non-null  float64\n",
      " 4   Height  210945 non-null  float64\n",
      " 5   Weight  208241 non-null  float64\n",
      " 6   Team    271116 non-null  object \n",
      " 7   NOC     271116 non-null  object \n",
      " 8   Games   271116 non-null  object \n",
      " 9   Year    271116 non-null  int64  \n",
      " 10  Season  271116 non-null  object \n",
      " 11  City    271116 non-null  object \n",
      " 12  Sport   271116 non-null  object \n",
      " 13  Event   271116 non-null  object \n",
      " 14  Medal   39783 non-null   object \n",
      "dtypes: float64(3), int64(2), object(10)\n",
      "memory usage: 31.0+ MB\n"
     ]
    }
   ],
   "source": [
    "df.info()"
   ]
  },
  {
   "cell_type": "markdown",
   "id": "ba813161-3dd7-4a18-844a-f6830b3ee94f",
   "metadata": {},
   "source": [
    "### Описание данных\n",
    "\n",
    "- **ID** - Представляет серийный номер каждой строки в наборе данных.\n",
    "- **Name** - Имя спортсмена\n",
    "- **Sex** - Пол спортсмена (Мужской, Женский)\n",
    "- **Age** - Возраст спортсмена\n",
    "- **Height** - Рост спортсмена (см)\n",
    "- **Weight** - Вес спортсмена (кг)\n",
    "- **Team** - Название команды (название страны, которую представляли участвующие спортсмены.)\n",
    "- **NOC** - название страны в коде, проводившей Олимпийские игры.\n",
    "- **Gamers** - Название игр в зависимости от сезона, в котором они проводились\n",
    "- **Year** - Год проведения Олимпийских игр\n",
    "- **Season** - Сезон проведения Олимпийских игр\n",
    "- **City** - Город, в котором проходили Олимпийские игры\n",
    "- **Sport** - Название олимпийского вида спорта\n",
    "- **Event** - Название спортивного мероприятия Олимпийских игр\n",
    "- **Medal** - Медаль, завоеванная командой"
   ]
  },
  {
   "cell_type": "code",
   "execution_count": 7,
   "id": "1b7ef90e-9391-4172-be7a-be558f0debb7",
   "metadata": {},
   "outputs": [
    {
     "data": {
      "text/html": [
       "<div>\n",
       "<style scoped>\n",
       "    .dataframe tbody tr th:only-of-type {\n",
       "        vertical-align: middle;\n",
       "    }\n",
       "\n",
       "    .dataframe tbody tr th {\n",
       "        vertical-align: top;\n",
       "    }\n",
       "\n",
       "    .dataframe thead th {\n",
       "        text-align: right;\n",
       "    }\n",
       "</style>\n",
       "<table border=\"1\" class=\"dataframe\">\n",
       "  <thead>\n",
       "    <tr style=\"text-align: right;\">\n",
       "      <th></th>\n",
       "      <th>ID</th>\n",
       "      <th>Age</th>\n",
       "      <th>Height</th>\n",
       "      <th>Weight</th>\n",
       "      <th>Year</th>\n",
       "    </tr>\n",
       "  </thead>\n",
       "  <tbody>\n",
       "    <tr>\n",
       "      <th>count</th>\n",
       "      <td>271116.000000</td>\n",
       "      <td>261642.000000</td>\n",
       "      <td>210945.000000</td>\n",
       "      <td>208241.000000</td>\n",
       "      <td>271116.000000</td>\n",
       "    </tr>\n",
       "    <tr>\n",
       "      <th>mean</th>\n",
       "      <td>68248.954396</td>\n",
       "      <td>25.556898</td>\n",
       "      <td>175.338970</td>\n",
       "      <td>70.702393</td>\n",
       "      <td>1978.378480</td>\n",
       "    </tr>\n",
       "    <tr>\n",
       "      <th>std</th>\n",
       "      <td>39022.286345</td>\n",
       "      <td>6.393561</td>\n",
       "      <td>10.518462</td>\n",
       "      <td>14.348020</td>\n",
       "      <td>29.877632</td>\n",
       "    </tr>\n",
       "    <tr>\n",
       "      <th>min</th>\n",
       "      <td>1.000000</td>\n",
       "      <td>10.000000</td>\n",
       "      <td>127.000000</td>\n",
       "      <td>25.000000</td>\n",
       "      <td>1896.000000</td>\n",
       "    </tr>\n",
       "    <tr>\n",
       "      <th>25%</th>\n",
       "      <td>34643.000000</td>\n",
       "      <td>21.000000</td>\n",
       "      <td>168.000000</td>\n",
       "      <td>60.000000</td>\n",
       "      <td>1960.000000</td>\n",
       "    </tr>\n",
       "    <tr>\n",
       "      <th>50%</th>\n",
       "      <td>68205.000000</td>\n",
       "      <td>24.000000</td>\n",
       "      <td>175.000000</td>\n",
       "      <td>70.000000</td>\n",
       "      <td>1988.000000</td>\n",
       "    </tr>\n",
       "    <tr>\n",
       "      <th>75%</th>\n",
       "      <td>102097.250000</td>\n",
       "      <td>28.000000</td>\n",
       "      <td>183.000000</td>\n",
       "      <td>79.000000</td>\n",
       "      <td>2002.000000</td>\n",
       "    </tr>\n",
       "    <tr>\n",
       "      <th>max</th>\n",
       "      <td>135571.000000</td>\n",
       "      <td>97.000000</td>\n",
       "      <td>226.000000</td>\n",
       "      <td>214.000000</td>\n",
       "      <td>2016.000000</td>\n",
       "    </tr>\n",
       "  </tbody>\n",
       "</table>\n",
       "</div>"
      ],
      "text/plain": [
       "                  ID            Age         Height         Weight  \\\n",
       "count  271116.000000  261642.000000  210945.000000  208241.000000   \n",
       "mean    68248.954396      25.556898     175.338970      70.702393   \n",
       "std     39022.286345       6.393561      10.518462      14.348020   \n",
       "min         1.000000      10.000000     127.000000      25.000000   \n",
       "25%     34643.000000      21.000000     168.000000      60.000000   \n",
       "50%     68205.000000      24.000000     175.000000      70.000000   \n",
       "75%    102097.250000      28.000000     183.000000      79.000000   \n",
       "max    135571.000000      97.000000     226.000000     214.000000   \n",
       "\n",
       "                Year  \n",
       "count  271116.000000  \n",
       "mean     1978.378480  \n",
       "std        29.877632  \n",
       "min      1896.000000  \n",
       "25%      1960.000000  \n",
       "50%      1988.000000  \n",
       "75%      2002.000000  \n",
       "max      2016.000000  "
      ]
     },
     "execution_count": 7,
     "metadata": {},
     "output_type": "execute_result"
    }
   ],
   "source": [
    "df.describe()"
   ]
  },
  {
   "cell_type": "code",
   "execution_count": 8,
   "id": "d0494393-472a-4e11-98e3-ed2fa4407126",
   "metadata": {},
   "outputs": [
    {
     "data": {
      "text/plain": [
       "(271116, 15)"
      ]
     },
     "execution_count": 8,
     "metadata": {},
     "output_type": "execute_result"
    }
   ],
   "source": [
    "df.shape"
   ]
  },
  {
   "cell_type": "code",
   "execution_count": 9,
   "id": "cbd52d77-4b47-4a01-a30c-99f4dd23e5ac",
   "metadata": {},
   "outputs": [
    {
     "data": {
      "text/html": [
       "<div>\n",
       "<style scoped>\n",
       "    .dataframe tbody tr th:only-of-type {\n",
       "        vertical-align: middle;\n",
       "    }\n",
       "\n",
       "    .dataframe tbody tr th {\n",
       "        vertical-align: top;\n",
       "    }\n",
       "\n",
       "    .dataframe thead th {\n",
       "        text-align: right;\n",
       "    }\n",
       "</style>\n",
       "<table border=\"1\" class=\"dataframe\">\n",
       "  <thead>\n",
       "    <tr style=\"text-align: right;\">\n",
       "      <th></th>\n",
       "      <th>count</th>\n",
       "      <th>unique</th>\n",
       "      <th>top</th>\n",
       "      <th>freq</th>\n",
       "      <th>mean</th>\n",
       "      <th>std</th>\n",
       "      <th>min</th>\n",
       "      <th>25%</th>\n",
       "      <th>50%</th>\n",
       "      <th>75%</th>\n",
       "      <th>max</th>\n",
       "    </tr>\n",
       "  </thead>\n",
       "  <tbody>\n",
       "    <tr>\n",
       "      <th>ID</th>\n",
       "      <td>271116.0</td>\n",
       "      <td>NaN</td>\n",
       "      <td>NaN</td>\n",
       "      <td>NaN</td>\n",
       "      <td>68248.954396</td>\n",
       "      <td>39022.286345</td>\n",
       "      <td>1.0</td>\n",
       "      <td>34643.0</td>\n",
       "      <td>68205.0</td>\n",
       "      <td>102097.25</td>\n",
       "      <td>135571.0</td>\n",
       "    </tr>\n",
       "    <tr>\n",
       "      <th>Name</th>\n",
       "      <td>271116</td>\n",
       "      <td>134732</td>\n",
       "      <td>Robert Tait McKenzie</td>\n",
       "      <td>58</td>\n",
       "      <td>NaN</td>\n",
       "      <td>NaN</td>\n",
       "      <td>NaN</td>\n",
       "      <td>NaN</td>\n",
       "      <td>NaN</td>\n",
       "      <td>NaN</td>\n",
       "      <td>NaN</td>\n",
       "    </tr>\n",
       "    <tr>\n",
       "      <th>Sex</th>\n",
       "      <td>271116</td>\n",
       "      <td>2</td>\n",
       "      <td>M</td>\n",
       "      <td>196594</td>\n",
       "      <td>NaN</td>\n",
       "      <td>NaN</td>\n",
       "      <td>NaN</td>\n",
       "      <td>NaN</td>\n",
       "      <td>NaN</td>\n",
       "      <td>NaN</td>\n",
       "      <td>NaN</td>\n",
       "    </tr>\n",
       "    <tr>\n",
       "      <th>Age</th>\n",
       "      <td>261642.0</td>\n",
       "      <td>NaN</td>\n",
       "      <td>NaN</td>\n",
       "      <td>NaN</td>\n",
       "      <td>25.556898</td>\n",
       "      <td>6.393561</td>\n",
       "      <td>10.0</td>\n",
       "      <td>21.0</td>\n",
       "      <td>24.0</td>\n",
       "      <td>28.0</td>\n",
       "      <td>97.0</td>\n",
       "    </tr>\n",
       "    <tr>\n",
       "      <th>Height</th>\n",
       "      <td>210945.0</td>\n",
       "      <td>NaN</td>\n",
       "      <td>NaN</td>\n",
       "      <td>NaN</td>\n",
       "      <td>175.33897</td>\n",
       "      <td>10.518462</td>\n",
       "      <td>127.0</td>\n",
       "      <td>168.0</td>\n",
       "      <td>175.0</td>\n",
       "      <td>183.0</td>\n",
       "      <td>226.0</td>\n",
       "    </tr>\n",
       "    <tr>\n",
       "      <th>Weight</th>\n",
       "      <td>208241.0</td>\n",
       "      <td>NaN</td>\n",
       "      <td>NaN</td>\n",
       "      <td>NaN</td>\n",
       "      <td>70.702393</td>\n",
       "      <td>14.34802</td>\n",
       "      <td>25.0</td>\n",
       "      <td>60.0</td>\n",
       "      <td>70.0</td>\n",
       "      <td>79.0</td>\n",
       "      <td>214.0</td>\n",
       "    </tr>\n",
       "    <tr>\n",
       "      <th>Team</th>\n",
       "      <td>271116</td>\n",
       "      <td>1184</td>\n",
       "      <td>United States</td>\n",
       "      <td>17847</td>\n",
       "      <td>NaN</td>\n",
       "      <td>NaN</td>\n",
       "      <td>NaN</td>\n",
       "      <td>NaN</td>\n",
       "      <td>NaN</td>\n",
       "      <td>NaN</td>\n",
       "      <td>NaN</td>\n",
       "    </tr>\n",
       "    <tr>\n",
       "      <th>NOC</th>\n",
       "      <td>271116</td>\n",
       "      <td>230</td>\n",
       "      <td>USA</td>\n",
       "      <td>18853</td>\n",
       "      <td>NaN</td>\n",
       "      <td>NaN</td>\n",
       "      <td>NaN</td>\n",
       "      <td>NaN</td>\n",
       "      <td>NaN</td>\n",
       "      <td>NaN</td>\n",
       "      <td>NaN</td>\n",
       "    </tr>\n",
       "    <tr>\n",
       "      <th>Games</th>\n",
       "      <td>271116</td>\n",
       "      <td>51</td>\n",
       "      <td>2000 Summer</td>\n",
       "      <td>13821</td>\n",
       "      <td>NaN</td>\n",
       "      <td>NaN</td>\n",
       "      <td>NaN</td>\n",
       "      <td>NaN</td>\n",
       "      <td>NaN</td>\n",
       "      <td>NaN</td>\n",
       "      <td>NaN</td>\n",
       "    </tr>\n",
       "    <tr>\n",
       "      <th>Year</th>\n",
       "      <td>271116.0</td>\n",
       "      <td>NaN</td>\n",
       "      <td>NaN</td>\n",
       "      <td>NaN</td>\n",
       "      <td>1978.37848</td>\n",
       "      <td>29.877632</td>\n",
       "      <td>1896.0</td>\n",
       "      <td>1960.0</td>\n",
       "      <td>1988.0</td>\n",
       "      <td>2002.0</td>\n",
       "      <td>2016.0</td>\n",
       "    </tr>\n",
       "    <tr>\n",
       "      <th>Season</th>\n",
       "      <td>271116</td>\n",
       "      <td>2</td>\n",
       "      <td>Summer</td>\n",
       "      <td>222552</td>\n",
       "      <td>NaN</td>\n",
       "      <td>NaN</td>\n",
       "      <td>NaN</td>\n",
       "      <td>NaN</td>\n",
       "      <td>NaN</td>\n",
       "      <td>NaN</td>\n",
       "      <td>NaN</td>\n",
       "    </tr>\n",
       "    <tr>\n",
       "      <th>City</th>\n",
       "      <td>271116</td>\n",
       "      <td>42</td>\n",
       "      <td>London</td>\n",
       "      <td>22426</td>\n",
       "      <td>NaN</td>\n",
       "      <td>NaN</td>\n",
       "      <td>NaN</td>\n",
       "      <td>NaN</td>\n",
       "      <td>NaN</td>\n",
       "      <td>NaN</td>\n",
       "      <td>NaN</td>\n",
       "    </tr>\n",
       "    <tr>\n",
       "      <th>Sport</th>\n",
       "      <td>271116</td>\n",
       "      <td>66</td>\n",
       "      <td>Athletics</td>\n",
       "      <td>38624</td>\n",
       "      <td>NaN</td>\n",
       "      <td>NaN</td>\n",
       "      <td>NaN</td>\n",
       "      <td>NaN</td>\n",
       "      <td>NaN</td>\n",
       "      <td>NaN</td>\n",
       "      <td>NaN</td>\n",
       "    </tr>\n",
       "    <tr>\n",
       "      <th>Event</th>\n",
       "      <td>271116</td>\n",
       "      <td>765</td>\n",
       "      <td>Football Men's Football</td>\n",
       "      <td>5733</td>\n",
       "      <td>NaN</td>\n",
       "      <td>NaN</td>\n",
       "      <td>NaN</td>\n",
       "      <td>NaN</td>\n",
       "      <td>NaN</td>\n",
       "      <td>NaN</td>\n",
       "      <td>NaN</td>\n",
       "    </tr>\n",
       "    <tr>\n",
       "      <th>Medal</th>\n",
       "      <td>39783</td>\n",
       "      <td>3</td>\n",
       "      <td>Gold</td>\n",
       "      <td>13372</td>\n",
       "      <td>NaN</td>\n",
       "      <td>NaN</td>\n",
       "      <td>NaN</td>\n",
       "      <td>NaN</td>\n",
       "      <td>NaN</td>\n",
       "      <td>NaN</td>\n",
       "      <td>NaN</td>\n",
       "    </tr>\n",
       "  </tbody>\n",
       "</table>\n",
       "</div>"
      ],
      "text/plain": [
       "           count  unique                      top    freq          mean  \\\n",
       "ID      271116.0     NaN                      NaN     NaN  68248.954396   \n",
       "Name      271116  134732     Robert Tait McKenzie      58           NaN   \n",
       "Sex       271116       2                        M  196594           NaN   \n",
       "Age     261642.0     NaN                      NaN     NaN     25.556898   \n",
       "Height  210945.0     NaN                      NaN     NaN     175.33897   \n",
       "Weight  208241.0     NaN                      NaN     NaN     70.702393   \n",
       "Team      271116    1184            United States   17847           NaN   \n",
       "NOC       271116     230                      USA   18853           NaN   \n",
       "Games     271116      51              2000 Summer   13821           NaN   \n",
       "Year    271116.0     NaN                      NaN     NaN    1978.37848   \n",
       "Season    271116       2                   Summer  222552           NaN   \n",
       "City      271116      42                   London   22426           NaN   \n",
       "Sport     271116      66                Athletics   38624           NaN   \n",
       "Event     271116     765  Football Men's Football    5733           NaN   \n",
       "Medal      39783       3                     Gold   13372           NaN   \n",
       "\n",
       "                 std     min      25%      50%        75%       max  \n",
       "ID      39022.286345     1.0  34643.0  68205.0  102097.25  135571.0  \n",
       "Name             NaN     NaN      NaN      NaN        NaN       NaN  \n",
       "Sex              NaN     NaN      NaN      NaN        NaN       NaN  \n",
       "Age         6.393561    10.0     21.0     24.0       28.0      97.0  \n",
       "Height     10.518462   127.0    168.0    175.0      183.0     226.0  \n",
       "Weight      14.34802    25.0     60.0     70.0       79.0     214.0  \n",
       "Team             NaN     NaN      NaN      NaN        NaN       NaN  \n",
       "NOC              NaN     NaN      NaN      NaN        NaN       NaN  \n",
       "Games            NaN     NaN      NaN      NaN        NaN       NaN  \n",
       "Year       29.877632  1896.0   1960.0   1988.0     2002.0    2016.0  \n",
       "Season           NaN     NaN      NaN      NaN        NaN       NaN  \n",
       "City             NaN     NaN      NaN      NaN        NaN       NaN  \n",
       "Sport            NaN     NaN      NaN      NaN        NaN       NaN  \n",
       "Event            NaN     NaN      NaN      NaN        NaN       NaN  \n",
       "Medal            NaN     NaN      NaN      NaN        NaN       NaN  "
      ]
     },
     "execution_count": 9,
     "metadata": {},
     "output_type": "execute_result"
    }
   ],
   "source": [
    "df.describe(include='all').T"
   ]
  },
  {
   "cell_type": "code",
   "execution_count": 10,
   "id": "78f7982f-17bf-4016-8310-fc3d9abf5d90",
   "metadata": {},
   "outputs": [
    {
     "data": {
      "text/html": [
       "<div>\n",
       "<style scoped>\n",
       "    .dataframe tbody tr th:only-of-type {\n",
       "        vertical-align: middle;\n",
       "    }\n",
       "\n",
       "    .dataframe tbody tr th {\n",
       "        vertical-align: top;\n",
       "    }\n",
       "\n",
       "    .dataframe thead th {\n",
       "        text-align: right;\n",
       "    }\n",
       "</style>\n",
       "<table border=\"1\" class=\"dataframe\">\n",
       "  <thead>\n",
       "    <tr style=\"text-align: right;\">\n",
       "      <th></th>\n",
       "      <th>Name</th>\n",
       "      <th>Sex</th>\n",
       "      <th>Team</th>\n",
       "      <th>NOC</th>\n",
       "      <th>Games</th>\n",
       "      <th>Season</th>\n",
       "      <th>City</th>\n",
       "      <th>Sport</th>\n",
       "      <th>Event</th>\n",
       "      <th>Medal</th>\n",
       "    </tr>\n",
       "  </thead>\n",
       "  <tbody>\n",
       "    <tr>\n",
       "      <th>count</th>\n",
       "      <td>271116</td>\n",
       "      <td>271116</td>\n",
       "      <td>271116</td>\n",
       "      <td>271116</td>\n",
       "      <td>271116</td>\n",
       "      <td>271116</td>\n",
       "      <td>271116</td>\n",
       "      <td>271116</td>\n",
       "      <td>271116</td>\n",
       "      <td>39783</td>\n",
       "    </tr>\n",
       "    <tr>\n",
       "      <th>unique</th>\n",
       "      <td>134732</td>\n",
       "      <td>2</td>\n",
       "      <td>1184</td>\n",
       "      <td>230</td>\n",
       "      <td>51</td>\n",
       "      <td>2</td>\n",
       "      <td>42</td>\n",
       "      <td>66</td>\n",
       "      <td>765</td>\n",
       "      <td>3</td>\n",
       "    </tr>\n",
       "    <tr>\n",
       "      <th>top</th>\n",
       "      <td>Robert Tait McKenzie</td>\n",
       "      <td>M</td>\n",
       "      <td>United States</td>\n",
       "      <td>USA</td>\n",
       "      <td>2000 Summer</td>\n",
       "      <td>Summer</td>\n",
       "      <td>London</td>\n",
       "      <td>Athletics</td>\n",
       "      <td>Football Men's Football</td>\n",
       "      <td>Gold</td>\n",
       "    </tr>\n",
       "    <tr>\n",
       "      <th>freq</th>\n",
       "      <td>58</td>\n",
       "      <td>196594</td>\n",
       "      <td>17847</td>\n",
       "      <td>18853</td>\n",
       "      <td>13821</td>\n",
       "      <td>222552</td>\n",
       "      <td>22426</td>\n",
       "      <td>38624</td>\n",
       "      <td>5733</td>\n",
       "      <td>13372</td>\n",
       "    </tr>\n",
       "  </tbody>\n",
       "</table>\n",
       "</div>"
      ],
      "text/plain": [
       "                        Name     Sex           Team     NOC        Games  \\\n",
       "count                 271116  271116         271116  271116       271116   \n",
       "unique                134732       2           1184     230           51   \n",
       "top     Robert Tait McKenzie       M  United States     USA  2000 Summer   \n",
       "freq                      58  196594          17847   18853        13821   \n",
       "\n",
       "        Season    City      Sport                    Event  Medal  \n",
       "count   271116  271116     271116                   271116  39783  \n",
       "unique       2      42         66                      765      3  \n",
       "top     Summer  London  Athletics  Football Men's Football   Gold  \n",
       "freq    222552   22426      38624                     5733  13372  "
      ]
     },
     "execution_count": 10,
     "metadata": {},
     "output_type": "execute_result"
    }
   ],
   "source": [
    "df.describe(include=[object])"
   ]
  },
  {
   "cell_type": "code",
   "execution_count": 11,
   "id": "a256e640-2424-43cf-8451-b62cc65239b5",
   "metadata": {},
   "outputs": [
    {
     "data": {
      "text/plain": [
       "ID          int64\n",
       "Name       object\n",
       "Sex        object\n",
       "Age       float64\n",
       "Height    float64\n",
       "Weight    float64\n",
       "Team       object\n",
       "NOC        object\n",
       "Games      object\n",
       "Year        int64\n",
       "Season     object\n",
       "City       object\n",
       "Sport      object\n",
       "Event      object\n",
       "Medal      object\n",
       "dtype: object"
      ]
     },
     "execution_count": 11,
     "metadata": {},
     "output_type": "execute_result"
    }
   ],
   "source": [
    "df.dtypes"
   ]
  },
  {
   "cell_type": "code",
   "execution_count": 12,
   "id": "07edea8d-5138-4236-a1c0-a2fccb787326",
   "metadata": {},
   "outputs": [
    {
     "data": {
      "text/plain": [
       "Index(['ID', 'Name', 'Sex', 'Age', 'Height', 'Weight', 'Team', 'NOC', 'Games',\n",
       "       'Year', 'Season', 'City', 'Sport', 'Event', 'Medal'],\n",
       "      dtype='object')"
      ]
     },
     "execution_count": 12,
     "metadata": {},
     "output_type": "execute_result"
    }
   ],
   "source": [
    "df.columns"
   ]
  },
  {
   "cell_type": "code",
   "execution_count": 13,
   "id": "366468a4-74c8-4370-a03c-03db6d11acc5",
   "metadata": {},
   "outputs": [],
   "source": [
    "df = df.loc[df['Weight'] < 150]"
   ]
  },
  {
   "cell_type": "code",
   "execution_count": 14,
   "id": "32dec46b-fa69-4209-ab38-a4595bf2be8f",
   "metadata": {},
   "outputs": [
    {
     "data": {
      "text/plain": [
       "208153"
      ]
     },
     "execution_count": 14,
     "metadata": {},
     "output_type": "execute_result"
    }
   ],
   "source": [
    "df.shape[0] "
   ]
  },
  {
   "cell_type": "code",
   "execution_count": 15,
   "id": "6d21a57d-3499-49f9-8693-f99b1d66d037",
   "metadata": {},
   "outputs": [],
   "source": [
    "df = df.loc[df['Age'] < 55]"
   ]
  },
  {
   "cell_type": "code",
   "execution_count": 16,
   "id": "ff7bd077-3e4f-4b6f-a137-9ab0e33f6a6e",
   "metadata": {},
   "outputs": [
    {
     "data": {
      "text/plain": [
       "207116"
      ]
     },
     "execution_count": 16,
     "metadata": {},
     "output_type": "execute_result"
    }
   ],
   "source": [
    "df.shape[0] "
   ]
  },
  {
   "cell_type": "code",
   "execution_count": 17,
   "id": "efc2b4a3-e760-4dfc-a615-5ddb0c8b3e18",
   "metadata": {},
   "outputs": [],
   "source": [
    "df= df.drop(['Games'], axis=1)"
   ]
  },
  {
   "cell_type": "code",
   "execution_count": 18,
   "id": "ad13f078-60fa-4786-97b5-2cb24e57809c",
   "metadata": {},
   "outputs": [
    {
     "data": {
      "text/plain": [
       "ID             0\n",
       "Name           0\n",
       "Sex            0\n",
       "Age            0\n",
       "Height      1213\n",
       "Weight         0\n",
       "Team           0\n",
       "NOC            0\n",
       "Year           0\n",
       "Season         0\n",
       "City           0\n",
       "Sport          0\n",
       "Event          0\n",
       "Medal     176729\n",
       "dtype: int64"
      ]
     },
     "execution_count": 18,
     "metadata": {},
     "output_type": "execute_result"
    }
   ],
   "source": [
    "df.isna().sum()"
   ]
  },
  {
   "cell_type": "code",
   "execution_count": 19,
   "id": "23390457-d80b-4767-b88f-37d76b7e6a9b",
   "metadata": {},
   "outputs": [
    {
     "name": "stdout",
     "output_type": "stream",
     "text": [
      "Кол-во пропусков в колонке ID = 0\n",
      "Кол-во пропусков в колонке Name = 0\n",
      "Кол-во пропусков в колонке Sex = 0\n",
      "Кол-во пропусков в колонке Age = 0\n",
      "Кол-во пропусков в колонке Height = 1213\n",
      "Кол-во пропусков в колонке Weight = 0\n",
      "Кол-во пропусков в колонке Team = 0\n",
      "Кол-во пропусков в колонке NOC = 0\n",
      "Кол-во пропусков в колонке Year = 0\n",
      "Кол-во пропусков в колонке Season = 0\n",
      "Кол-во пропусков в колонке City = 0\n",
      "Кол-во пропусков в колонке Sport = 0\n",
      "Кол-во пропусков в колонке Event = 0\n",
      "Кол-во пропусков в колонке Medal = 176729\n"
     ]
    }
   ],
   "source": [
    "for col in df.columns:\n",
    "    print('Кол-во пропусков в колонке %s = %d' % (col, df[col].isna().sum()))"
   ]
  },
  {
   "cell_type": "code",
   "execution_count": 20,
   "id": "dc97e574-5d1b-4d11-a012-626a6711f54c",
   "metadata": {},
   "outputs": [
    {
     "name": "stdout",
     "output_type": "stream",
     "text": [
      "Кол-во пропусков в колонке ID =0.00 % \n",
      "Кол-во пропусков в колонке Name =0.00 % \n",
      "Кол-во пропусков в колонке Sex =0.00 % \n",
      "Кол-во пропусков в колонке Age =0.00 % \n",
      "Кол-во пропусков в колонке Height =0.59 % \n",
      "Кол-во пропусков в колонке Weight =0.00 % \n",
      "Кол-во пропусков в колонке Team =0.00 % \n",
      "Кол-во пропусков в колонке NOC =0.00 % \n",
      "Кол-во пропусков в колонке Year =0.00 % \n",
      "Кол-во пропусков в колонке Season =0.00 % \n",
      "Кол-во пропусков в колонке City =0.00 % \n",
      "Кол-во пропусков в колонке Sport =0.00 % \n",
      "Кол-во пропусков в колонке Event =0.00 % \n",
      "Кол-во пропусков в колонке Medal =85.33 % \n"
     ]
    }
   ],
   "source": [
    "for col in df.columns:\n",
    "    print(f'Кол-во пропусков в колонке {col} ={df[col].isna().sum()/df.shape[0] * 100:.2f} % ')"
   ]
  },
  {
   "cell_type": "code",
   "execution_count": 21,
   "id": "ceda579f-3567-4a6b-9175-fe83a54715ce",
   "metadata": {},
   "outputs": [
    {
     "data": {
      "image/png": "[encoded data removed]",
      "text/plain": [
       "<Figure size 800x400 with 1 Axes>"
      ]
     },
     "metadata": {},
     "output_type": "display_data"
    }
   ],
   "source": [
    "missing_data = df.isna().sum()\n",
    "\n",
    "missing_data.plot(kind='bar', figsize=(8, 4))\n",
    "plt.title(\"Отсутствующие значения\")\n",
    "plt.ylabel(\"Количество пропущенных значений\")\n",
    "plt.show()"
   ]
  },
  {
   "cell_type": "code",
   "execution_count": 22,
   "id": "0fc3196e-a6ed-4eb0-8940-2d3ccf28d97e",
   "metadata": {},
   "outputs": [
    {
     "data": {
      "text/plain": [
       "36"
      ]
     },
     "execution_count": 22,
     "metadata": {},
     "output_type": "execute_result"
    }
   ],
   "source": [
    "df.duplicated().sum()"
   ]
  },
  {
   "cell_type": "code",
   "execution_count": 23,
   "id": "ce3841c0-d92f-46c1-bcd1-b3214ab76ef4",
   "metadata": {},
   "outputs": [
    {
     "data": {
      "text/plain": [
       "0"
      ]
     },
     "execution_count": 23,
     "metadata": {},
     "output_type": "execute_result"
    }
   ],
   "source": [
    "df = df.drop_duplicates().reset_index(drop=True)\n",
    "df.duplicated().sum() "
   ]
  },
  {
   "cell_type": "code",
   "execution_count": 24,
   "id": "b5d8474b-5d65-49dd-9615-89c56e6420d4",
   "metadata": {},
   "outputs": [
    {
     "name": "stdout",
     "output_type": "stream",
     "text": [
      "Index(['ID', 'Age', 'Height', 'Weight', 'Year'], dtype='object')\n",
      "Index(['Name', 'Sex', 'Team', 'NOC', 'Season', 'City', 'Sport', 'Event',\n",
      "       'Medal'],\n",
      "      dtype='object')\n"
     ]
    }
   ],
   "source": [
    "numerical_cols = df.select_dtypes(include=['float64', 'int64']).columns\n",
    "categorical_cols = df.select_dtypes(include=['object']).columns\n",
    "\n",
    "print(numerical_cols)\n",
    "print(categorical_cols)\n",
    "\n",
    "from sklearn.impute import SimpleImputer\n",
    "\n",
    "# Imputation for numerical data (using mean)\n",
    "num_imputer = SimpleImputer(strategy='mean')\n",
    "df[numerical_cols] = num_imputer.fit_transform(df[numerical_cols])\n",
    "\n",
    "# Imputation for categorical data (using most frequent)\n",
    "cat_imputer = SimpleImputer(strategy='most_frequent')\n",
    "df[categorical_cols] = cat_imputer.fit_transform(df[categorical_cols])"
   ]
  },
  {
   "cell_type": "code",
   "execution_count": 25,
   "id": "aa778b49-1827-4756-9f8b-e7799dce4269",
   "metadata": {},
   "outputs": [
    {
     "data": {
      "text/plain": [
       "ID        0\n",
       "Name      0\n",
       "Sex       0\n",
       "Age       0\n",
       "Height    0\n",
       "Weight    0\n",
       "Team      0\n",
       "NOC       0\n",
       "Year      0\n",
       "Season    0\n",
       "City      0\n",
       "Sport     0\n",
       "Event     0\n",
       "Medal     0\n",
       "dtype: int64"
      ]
     },
     "execution_count": 25,
     "metadata": {},
     "output_type": "execute_result"
    }
   ],
   "source": [
    "df.isna().sum()"
   ]
  },
  {
   "cell_type": "markdown",
   "id": "e54b8a94-23fa-4d8b-9962-4b40eac79da4",
   "metadata": {},
   "source": [
    "### Плотность распределения данных"
   ]
  },
  {
   "cell_type": "code",
   "execution_count": 27,
   "id": "0ba797ce-4c6c-46af-8027-d8cdd9aa64e1",
   "metadata": {},
   "outputs": [
    {
     "data": {
      "image/png": "[encoded data removed]",
      "text/plain": [
       "<Figure size 2000x2000 with 6 Axes>"
      ]
     },
     "metadata": {},
     "output_type": "display_data"
    }
   ],
   "source": [
    "df.hist(figsize=(20,20), bins = 30);"
   ]
  },
  {
   "cell_type": "code",
   "execution_count": null,
   "id": "82b41b37-53a1-42f1-8814-32bcfe67d029",
   "metadata": {},
   "outputs": [
    {
     "data": {
      "text/plain": [
       "<seaborn.axisgrid.PairGrid at 0x1f9588700e0>"
      ]
     },
     "execution_count": 28,
     "metadata": {},
     "output_type": "execute_result"
    }
   ],
   "source": [
    "sns.pairplot(df)"
   ]
  },
  {
   "cell_type": "code",
   "execution_count": null,
   "id": "f77222fe-56f6-46bd-aed6-cd6ab1924e50",
   "metadata": {},
   "outputs": [],
   "source": [
    "numerical_all_colslist = df.select_dtypes(include=['float64', 'int64','int32']).columns\n",
    "numerical_all_cols = df[numerical_all_colslist]\n",
    "numerical_all_cols.head()"
   ]
  },
  {
   "cell_type": "code",
   "execution_count": null,
   "id": "0d267bf0-c06b-4176-872e-3fe0718675e0",
   "metadata": {},
   "outputs": [],
   "source": [
    "numerical_cols"
   ]
  },
  {
   "cell_type": "code",
   "execution_count": null,
   "id": "cfe0a5da-5647-4164-81ce-ec32425eb66d",
   "metadata": {},
   "outputs": [],
   "source": [
    "corr_matrix = numerical_all_cols.corr()\n",
    "\n",
    "plt.figure(figsize=(15, 6))\n",
    "sns.heatmap(corr_matrix, annot=True, cmap='coolwarm')\n",
    "plt.title(\"Correlation Matrix of Numerical Features\")\n",
    "plt.show()"
   ]
  },
  {
   "cell_type": "code",
   "execution_count": null,
   "id": "65c60f99-6400-4b2c-bff0-5343c961e623",
   "metadata": {},
   "outputs": [],
   "source": [
    "corr_matrix = df[numerical_cols].corr()\n",
    "plt.figure(figsize=(12, 8))\n",
    "sns.heatmap(corr_matrix, annot=True, cmap='coolwarm')\n",
    "plt.show()"
   ]
  },
  {
   "cell_type": "code",
   "execution_count": null,
   "id": "b201030b-642a-4fc4-951f-856037278831",
   "metadata": {},
   "outputs": [],
   "source": [
    "sns.set(font_scale=2.5)\n",
    "plt.figure(figsize=(40,30))\n",
    "corr_matrix=numerical_all_cols.corr()\n",
    "sns.heatmap(corr_matrix,annot=True,fmt = \".2f\",cbar = True,annot_kws={\"size\":18})"
   ]
  },
  {
   "cell_type": "code",
   "execution_count": null,
   "id": "4f86bfb5-310a-4308-a366-c70928e3b7ba",
   "metadata": {},
   "outputs": [],
   "source": []
  }
 ],
 "metadata": {
  "kernelspec": {
   "display_name": "Python 3 (ipykernel)",
   "language": "python",
   "name": "python3"
  },
  "language_info": {
   "codemirror_mode": {
    "name": "ipython",
    "version": 3
   },
   "file_extension": ".py",
   "mimetype": "text/x-python",
   "name": "python",
   "nbconvert_exporter": "python",
   "pygments_lexer": "ipython3",
   "version": "3.12.4"
  }
 },
 "nbformat": 4,
 "nbformat_minor": 5
}
